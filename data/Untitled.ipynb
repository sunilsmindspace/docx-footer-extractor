{
 "cells": [
  {
   "cell_type": "code",
   "execution_count": 41,
   "id": "210b567e-e9ba-4a4f-b76b-d0fb84672bde",
   "metadata": {},
   "outputs": [
    {
     "name": "stdout",
     "output_type": "stream",
     "text": [
      "Found 9 .docx files:\n",
      "CS Log file handling.docx\n",
      "{'Document ID': 'D002054507', 'Document Revision': '', 'Template Number': '2001001526', 'Template Version': '2', 'Philips Information Classification': 'Internal'}\n",
      "CS ExamCardsDatabaseService_Voxel_D002055389_RevA.docx\n",
      "{'Document ID': 'D002055389', 'Document Revision': 'A', 'Template Number': '2001001526', 'Template Version': '2', 'Philips Information Classification': 'Internal'}\n",
      "CS ExamCards verA.docx\n",
      "{'Document ID': 'D002064158', 'Document Revision': 'A', 'Template Number': '2001001526', 'Template Version': '2', 'Philips Information Classification': 'Internal'}\n",
      "CS Connectivity_R13.0_D002055364_RevA.docx\n",
      "{'Document ID': 'D002055364', 'Document Revision': 'A', 'Template Number': '2001001526', 'Template Version': '2', 'Philips Information Classification': 'Internal'}\n",
      "CS Exam Overview_verA.docx\n",
      "{'Document ID': 'D002064334', 'Document Revision': 'A', 'Template Number': '2001001526', 'Template Version': '2', 'Philips Information Classification': 'Internal'}\n",
      "CS PDT Voxel.docx\n",
      "{'Document ID': '', 'Document Revision': '', 'Template Number': '2001001526', 'Template Version': '2', 'Philips Information Classification': 'Internal'}\n",
      "ComponentSpecifications_MR-RT_RTgo5.13_D002050479_RevA.docx\n",
      "{'Document ID': 'Doc_ID', 'Document Revision': 'Rev_Level', 'Template Number': '2001001526', 'Template Version': '2', 'Philips Information Classification': 'Internal'}\n",
      "CS DicomConfigTool_R13.0_D002055371_RevA.docx\n",
      "{'Document ID': 'D002055371', 'Document Revision': 'A', 'Template Number': '2001001526', 'Template Version': '2', 'Philips Information Classification': 'Internal'}\n",
      "CS LayoutManagerService__verA.docx\n",
      "{'Document ID': 'D002066655', 'Document Revision': 'A', 'Template Number': '2001001526', 'Template Version': '2', 'Philips Information Classification': 'Internal'}\n"
     ]
    }
   ],
   "source": [
    "import os\n",
    "from docx import Document\n",
    "\n",
    "def extract_key_values(text):\n",
    "    result = {}\n",
    "    for line in text.split('\\n'):\n",
    "        if ':' in line:\n",
    "            key, value = line.split(':', 1)\n",
    "            result[key.strip()] = value.strip()\n",
    "    return result\n",
    "\n",
    "def get_kv(data):\n",
    "    # Final dictionary to hold all key-value pairs\n",
    "    doc_info = {}\n",
    "    \n",
    "    # Iterate through each tuple in the list\n",
    "    for entry in data:\n",
    "        for part in entry:\n",
    "            if part.strip():  # skip empty strings\n",
    "                doc_info.update(extract_key_values(part))\n",
    "\n",
    "    # Print final dictionary\n",
    "    print(doc_info)\n",
    "\n",
    "def get_metadata_footer(folder):\n",
    "    # Get all .docx files in the current folder\n",
    "    docs = [f for f in os.listdir('.') if f.endswith('.docx')]\n",
    "    \n",
    "    # Display the list\n",
    "    print(f\"Found {len(docs)} .docx files:\")\n",
    "    for file in docs:\n",
    "        print(file)\n",
    "        doc = Document(file)\n",
    "        # Get all sections in the document\n",
    "        for section in doc.sections:\n",
    "            # Each section can have different footers\n",
    "            footer = section.footer\n",
    "            \n",
    "            # Extract text from footer paragraphs\n",
    "            footer_text = []\n",
    "            for paragraph in footer.paragraphs:\n",
    "                if paragraph.text.strip():  # Only add non-empty paragraphs\n",
    "                    footer_text.append(paragraph.text.strip())\n",
    "                    \n",
    "            for table in footer.tables:\n",
    "                # print(table.style.name)\n",
    "                tabl = [tuple(c.text for c in r.cells) for r in table.rows]\n",
    "                get_kv(tabl)\n"
   ]
  },
  {
   "cell_type": "code",
   "execution_count": null,
   "id": "4d5031f2-a61f-4530-b450-6bc76f43ce0e",
   "metadata": {},
   "outputs": [],
   "source": []
  }
 ],
 "metadata": {
  "kernelspec": {
   "display_name": "Python 3 (ipykernel)",
   "language": "python",
   "name": "python3"
  },
  "language_info": {
   "codemirror_mode": {
    "name": "ipython",
    "version": 3
   },
   "file_extension": ".py",
   "mimetype": "text/x-python",
   "name": "python",
   "nbconvert_exporter": "python",
   "pygments_lexer": "ipython3",
   "version": "3.12.3"
  }
 },
 "nbformat": 4,
 "nbformat_minor": 5
}
